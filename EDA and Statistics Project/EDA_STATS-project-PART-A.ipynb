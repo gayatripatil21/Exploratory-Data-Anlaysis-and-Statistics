{
 "cells": [
  {
   "cell_type": "code",
   "execution_count": 3,
   "id": "111f03ee",
   "metadata": {},
   "outputs": [],
   "source": [
    "import numpy as np\n",
    "import pandas as pd\n",
    "import matplotlib.pyplot as plt\n",
    "import seaborn as sns\n",
    "\n",
    "from warnings import filterwarnings\n",
    "filterwarnings('ignore')\n",
    "\n",
    "##### import library\n",
    "import scipy.stats as stats"
   ]
  },
  {
   "cell_type": "code",
   "execution_count": 6,
   "id": "f39a9e28",
   "metadata": {},
   "outputs": [
    {
     "data": {
      "text/html": [
       "<div>\n",
       "<style scoped>\n",
       "    .dataframe tbody tr th:only-of-type {\n",
       "        vertical-align: middle;\n",
       "    }\n",
       "\n",
       "    .dataframe tbody tr th {\n",
       "        vertical-align: top;\n",
       "    }\n",
       "\n",
       "    .dataframe thead th {\n",
       "        text-align: right;\n",
       "    }\n",
       "</style>\n",
       "<table border=\"1\" class=\"dataframe\">\n",
       "  <thead>\n",
       "    <tr style=\"text-align: right;\">\n",
       "      <th></th>\n",
       "      <th>age</th>\n",
       "    </tr>\n",
       "  </thead>\n",
       "  <tbody>\n",
       "    <tr>\n",
       "      <th>0</th>\n",
       "      <td>42</td>\n",
       "    </tr>\n",
       "    <tr>\n",
       "      <th>1</th>\n",
       "      <td>44</td>\n",
       "    </tr>\n",
       "    <tr>\n",
       "      <th>2</th>\n",
       "      <td>62</td>\n",
       "    </tr>\n",
       "    <tr>\n",
       "      <th>3</th>\n",
       "      <td>35</td>\n",
       "    </tr>\n",
       "    <tr>\n",
       "      <th>4</th>\n",
       "      <td>20</td>\n",
       "    </tr>\n",
       "    <tr>\n",
       "      <th>5</th>\n",
       "      <td>30</td>\n",
       "    </tr>\n",
       "    <tr>\n",
       "      <th>6</th>\n",
       "      <td>56</td>\n",
       "    </tr>\n",
       "    <tr>\n",
       "      <th>7</th>\n",
       "      <td>20</td>\n",
       "    </tr>\n",
       "    <tr>\n",
       "      <th>8</th>\n",
       "      <td>23</td>\n",
       "    </tr>\n",
       "    <tr>\n",
       "      <th>9</th>\n",
       "      <td>41</td>\n",
       "    </tr>\n",
       "    <tr>\n",
       "      <th>10</th>\n",
       "      <td>55</td>\n",
       "    </tr>\n",
       "    <tr>\n",
       "      <th>11</th>\n",
       "      <td>22</td>\n",
       "    </tr>\n",
       "    <tr>\n",
       "      <th>12</th>\n",
       "      <td>31</td>\n",
       "    </tr>\n",
       "    <tr>\n",
       "      <th>13</th>\n",
       "      <td>27</td>\n",
       "    </tr>\n",
       "    <tr>\n",
       "      <th>14</th>\n",
       "      <td>66</td>\n",
       "    </tr>\n",
       "    <tr>\n",
       "      <th>15</th>\n",
       "      <td>21</td>\n",
       "    </tr>\n",
       "    <tr>\n",
       "      <th>16</th>\n",
       "      <td>18</td>\n",
       "    </tr>\n",
       "    <tr>\n",
       "      <th>17</th>\n",
       "      <td>24</td>\n",
       "    </tr>\n",
       "    <tr>\n",
       "      <th>18</th>\n",
       "      <td>42</td>\n",
       "    </tr>\n",
       "    <tr>\n",
       "      <th>19</th>\n",
       "      <td>25</td>\n",
       "    </tr>\n",
       "    <tr>\n",
       "      <th>20</th>\n",
       "      <td>32</td>\n",
       "    </tr>\n",
       "    <tr>\n",
       "      <th>21</th>\n",
       "      <td>50</td>\n",
       "    </tr>\n",
       "    <tr>\n",
       "      <th>22</th>\n",
       "      <td>31</td>\n",
       "    </tr>\n",
       "    <tr>\n",
       "      <th>23</th>\n",
       "      <td>26</td>\n",
       "    </tr>\n",
       "    <tr>\n",
       "      <th>24</th>\n",
       "      <td>36</td>\n",
       "    </tr>\n",
       "    <tr>\n",
       "      <th>25</th>\n",
       "      <td>39</td>\n",
       "    </tr>\n",
       "    <tr>\n",
       "      <th>26</th>\n",
       "      <td>40</td>\n",
       "    </tr>\n",
       "    <tr>\n",
       "      <th>27</th>\n",
       "      <td>18</td>\n",
       "    </tr>\n",
       "    <tr>\n",
       "      <th>28</th>\n",
       "      <td>36</td>\n",
       "    </tr>\n",
       "    <tr>\n",
       "      <th>29</th>\n",
       "      <td>22</td>\n",
       "    </tr>\n",
       "  </tbody>\n",
       "</table>\n",
       "</div>"
      ],
      "text/plain": [
       "    age\n",
       "0    42\n",
       "1    44\n",
       "2    62\n",
       "3    35\n",
       "4    20\n",
       "5    30\n",
       "6    56\n",
       "7    20\n",
       "8    23\n",
       "9    41\n",
       "10   55\n",
       "11   22\n",
       "12   31\n",
       "13   27\n",
       "14   66\n",
       "15   21\n",
       "16   18\n",
       "17   24\n",
       "18   42\n",
       "19   25\n",
       "20   32\n",
       "21   50\n",
       "22   31\n",
       "23   26\n",
       "24   36\n",
       "25   39\n",
       "26   40\n",
       "27   18\n",
       "28   36\n",
       "29   22"
      ]
     },
     "execution_count": 6,
     "metadata": {},
     "output_type": "execute_result"
    }
   ],
   "source": [
    "age=[42, 44, 62, 35, 20,30, 56, 20, 23, 41,55, 22, 31, 27, 66,21, 18, 24, 42, 25,32, 50, 31, 26, 36,39, 40, 18, 36, 22]\n",
    "df=pd.DataFrame(age)\n",
    "df.columns=['age']\n",
    "df"
   ]
  },
  {
   "cell_type": "code",
   "execution_count": 13,
   "id": "0d667078",
   "metadata": {},
   "outputs": [
    {
     "data": {
      "text/plain": [
       "0    34.466667\n",
       "dtype: float64"
      ]
     },
     "execution_count": 13,
     "metadata": {},
     "output_type": "execute_result"
    }
   ],
   "source": [
    "#Q1. Compute the mean, median and the mode of the data\n",
    "a=df.mean()\n",
    "a"
   ]
  },
  {
   "cell_type": "code",
   "execution_count": 15,
   "id": "a7a97f8a",
   "metadata": {},
   "outputs": [
    {
     "data": {
      "text/plain": [
       "0    31.5\n",
       "dtype: float64"
      ]
     },
     "execution_count": 15,
     "metadata": {},
     "output_type": "execute_result"
    }
   ],
   "source": [
    "b=df.median()\n",
    "b"
   ]
  },
  {
   "cell_type": "code",
   "execution_count": 9,
   "id": "565eeace",
   "metadata": {},
   "outputs": [
    {
     "data": {
      "text/html": [
       "<div>\n",
       "<style scoped>\n",
       "    .dataframe tbody tr th:only-of-type {\n",
       "        vertical-align: middle;\n",
       "    }\n",
       "\n",
       "    .dataframe tbody tr th {\n",
       "        vertical-align: top;\n",
       "    }\n",
       "\n",
       "    .dataframe thead th {\n",
       "        text-align: right;\n",
       "    }\n",
       "</style>\n",
       "<table border=\"1\" class=\"dataframe\">\n",
       "  <thead>\n",
       "    <tr style=\"text-align: right;\">\n",
       "      <th></th>\n",
       "      <th>0</th>\n",
       "    </tr>\n",
       "  </thead>\n",
       "  <tbody>\n",
       "    <tr>\n",
       "      <th>0</th>\n",
       "      <td>18</td>\n",
       "    </tr>\n",
       "    <tr>\n",
       "      <th>1</th>\n",
       "      <td>20</td>\n",
       "    </tr>\n",
       "    <tr>\n",
       "      <th>2</th>\n",
       "      <td>22</td>\n",
       "    </tr>\n",
       "    <tr>\n",
       "      <th>3</th>\n",
       "      <td>31</td>\n",
       "    </tr>\n",
       "    <tr>\n",
       "      <th>4</th>\n",
       "      <td>36</td>\n",
       "    </tr>\n",
       "    <tr>\n",
       "      <th>5</th>\n",
       "      <td>42</td>\n",
       "    </tr>\n",
       "  </tbody>\n",
       "</table>\n",
       "</div>"
      ],
      "text/plain": [
       "    0\n",
       "0  18\n",
       "1  20\n",
       "2  22\n",
       "3  31\n",
       "4  36\n",
       "5  42"
      ]
     },
     "execution_count": 9,
     "metadata": {},
     "output_type": "execute_result"
    }
   ],
   "source": [
    "df.mode()"
   ]
  },
  {
   "cell_type": "code",
   "execution_count": 10,
   "id": "005fdac5",
   "metadata": {},
   "outputs": [
    {
     "data": {
      "text/plain": [
       "0    48\n",
       "dtype: int64"
      ]
     },
     "execution_count": 10,
     "metadata": {},
     "output_type": "execute_result"
    }
   ],
   "source": [
    "#Q2. Compute the range , variance and standard deviation of customer ages\n",
    "df.max()-df.min()"
   ]
  },
  {
   "cell_type": "code",
   "execution_count": 11,
   "id": "0b619ff3",
   "metadata": {},
   "outputs": [
    {
     "data": {
      "text/plain": [
       "0    177.36092\n",
       "dtype: float64"
      ]
     },
     "execution_count": 11,
     "metadata": {},
     "output_type": "execute_result"
    }
   ],
   "source": [
    "df.var()"
   ]
  },
  {
   "cell_type": "code",
   "execution_count": 16,
   "id": "f3f0117e",
   "metadata": {},
   "outputs": [
    {
     "data": {
      "text/plain": [
       "0    13.317692\n",
       "dtype: float64"
      ]
     },
     "execution_count": 16,
     "metadata": {},
     "output_type": "execute_result"
    }
   ],
   "source": [
    "c=df.std()\n",
    "c"
   ]
  },
  {
   "cell_type": "code",
   "execution_count": 14,
   "id": "365551a0",
   "metadata": {},
   "outputs": [
    {
     "name": "stdout",
     "output_type": "stream",
     "text": [
      "Mean deviations : [0    34.466667\n",
      "dtype: float64]\n"
     ]
    }
   ],
   "source": [
    "#Q3. Find the mean deviation for the data . The mean deviation is defined as\n",
    "#below.\n",
    "l1=[]\n",
    "for i in df:\n",
    "    l1.append(abs(i-a))\n",
    "print(\"Mean deviations : \" + str(l1))\n",
    "    \n"
   ]
  },
  {
   "cell_type": "code",
   "execution_count": 17,
   "id": "941ed5e2",
   "metadata": {},
   "outputs": [
    {
     "data": {
      "text/plain": [
       "0    0.668284\n",
       "dtype: float64"
      ]
     },
     "execution_count": 17,
     "metadata": {},
     "output_type": "execute_result"
    }
   ],
   "source": [
    "#Q4. Calculate the Pearson coefficient of skewness and comment on the skewness of the data\n",
    "sk=3*(a-b)/c\n",
    "sk"
   ]
  },
  {
   "cell_type": "code",
   "execution_count": null,
   "id": "0045392b",
   "metadata": {},
   "outputs": [],
   "source": [
    "#the data is positively skewed since the output is greater than 0 and less than 3"
   ]
  },
  {
   "cell_type": "code",
   "execution_count": 11,
   "id": "08f73ab1",
   "metadata": {},
   "outputs": [
    {
     "ename": "ValueError",
     "evalue": "Can only compare identically-labeled Series objects",
     "output_type": "error",
     "traceback": [
      "\u001b[1;31m---------------------------------------------------------------------------\u001b[0m",
      "\u001b[1;31mValueError\u001b[0m                                Traceback (most recent call last)",
      "\u001b[1;32m~\\AppData\\Local\\Temp\\ipykernel_14372\\66757891.py\u001b[0m in \u001b[0;36m<module>\u001b[1;34m\u001b[0m\n\u001b[0;32m      1\u001b[0m \u001b[1;31m#Q5. Count the number of data values that fall within two standard deviations of\u001b[0m\u001b[1;33m\u001b[0m\u001b[1;33m\u001b[0m\u001b[0m\n\u001b[0;32m      2\u001b[0m \u001b[1;31m#the mean. Compare this with the answer from Chebyshev’s Theorem.\u001b[0m\u001b[1;33m\u001b[0m\u001b[1;33m\u001b[0m\u001b[0m\n\u001b[1;32m----> 3\u001b[1;33m \u001b[0mdf\u001b[0m\u001b[1;33m.\u001b[0m\u001b[0mvalue_counts\u001b[0m\u001b[1;33m(\u001b[0m\u001b[1;33m)\u001b[0m\u001b[1;33m<\u001b[0m\u001b[1;33m(\u001b[0m\u001b[1;36m2\u001b[0m\u001b[1;33m*\u001b[0m\u001b[0mdf\u001b[0m\u001b[1;33m.\u001b[0m\u001b[0mstd\u001b[0m\u001b[1;33m(\u001b[0m\u001b[1;33m)\u001b[0m\u001b[1;33m)\u001b[0m\u001b[1;33m\u001b[0m\u001b[1;33m\u001b[0m\u001b[0m\n\u001b[0m",
      "\u001b[1;32m~\\New folder\\lib\\site-packages\\pandas\\core\\ops\\common.py\u001b[0m in \u001b[0;36mnew_method\u001b[1;34m(self, other)\u001b[0m\n\u001b[0;32m     68\u001b[0m         \u001b[0mother\u001b[0m \u001b[1;33m=\u001b[0m \u001b[0mitem_from_zerodim\u001b[0m\u001b[1;33m(\u001b[0m\u001b[0mother\u001b[0m\u001b[1;33m)\u001b[0m\u001b[1;33m\u001b[0m\u001b[1;33m\u001b[0m\u001b[0m\n\u001b[0;32m     69\u001b[0m \u001b[1;33m\u001b[0m\u001b[0m\n\u001b[1;32m---> 70\u001b[1;33m         \u001b[1;32mreturn\u001b[0m \u001b[0mmethod\u001b[0m\u001b[1;33m(\u001b[0m\u001b[0mself\u001b[0m\u001b[1;33m,\u001b[0m \u001b[0mother\u001b[0m\u001b[1;33m)\u001b[0m\u001b[1;33m\u001b[0m\u001b[1;33m\u001b[0m\u001b[0m\n\u001b[0m\u001b[0;32m     71\u001b[0m \u001b[1;33m\u001b[0m\u001b[0m\n\u001b[0;32m     72\u001b[0m     \u001b[1;32mreturn\u001b[0m \u001b[0mnew_method\u001b[0m\u001b[1;33m\u001b[0m\u001b[1;33m\u001b[0m\u001b[0m\n",
      "\u001b[1;32m~\\New folder\\lib\\site-packages\\pandas\\core\\arraylike.py\u001b[0m in \u001b[0;36m__lt__\u001b[1;34m(self, other)\u001b[0m\n\u001b[0;32m     46\u001b[0m     \u001b[1;33m@\u001b[0m\u001b[0munpack_zerodim_and_defer\u001b[0m\u001b[1;33m(\u001b[0m\u001b[1;34m\"__lt__\"\u001b[0m\u001b[1;33m)\u001b[0m\u001b[1;33m\u001b[0m\u001b[1;33m\u001b[0m\u001b[0m\n\u001b[0;32m     47\u001b[0m     \u001b[1;32mdef\u001b[0m \u001b[0m__lt__\u001b[0m\u001b[1;33m(\u001b[0m\u001b[0mself\u001b[0m\u001b[1;33m,\u001b[0m \u001b[0mother\u001b[0m\u001b[1;33m)\u001b[0m\u001b[1;33m:\u001b[0m\u001b[1;33m\u001b[0m\u001b[1;33m\u001b[0m\u001b[0m\n\u001b[1;32m---> 48\u001b[1;33m         \u001b[1;32mreturn\u001b[0m \u001b[0mself\u001b[0m\u001b[1;33m.\u001b[0m\u001b[0m_cmp_method\u001b[0m\u001b[1;33m(\u001b[0m\u001b[0mother\u001b[0m\u001b[1;33m,\u001b[0m \u001b[0moperator\u001b[0m\u001b[1;33m.\u001b[0m\u001b[0mlt\u001b[0m\u001b[1;33m)\u001b[0m\u001b[1;33m\u001b[0m\u001b[1;33m\u001b[0m\u001b[0m\n\u001b[0m\u001b[0;32m     49\u001b[0m \u001b[1;33m\u001b[0m\u001b[0m\n\u001b[0;32m     50\u001b[0m     \u001b[1;33m@\u001b[0m\u001b[0munpack_zerodim_and_defer\u001b[0m\u001b[1;33m(\u001b[0m\u001b[1;34m\"__le__\"\u001b[0m\u001b[1;33m)\u001b[0m\u001b[1;33m\u001b[0m\u001b[1;33m\u001b[0m\u001b[0m\n",
      "\u001b[1;32m~\\New folder\\lib\\site-packages\\pandas\\core\\series.py\u001b[0m in \u001b[0;36m_cmp_method\u001b[1;34m(self, other, op)\u001b[0m\n\u001b[0;32m   5615\u001b[0m \u001b[1;33m\u001b[0m\u001b[0m\n\u001b[0;32m   5616\u001b[0m         \u001b[1;32mif\u001b[0m \u001b[0misinstance\u001b[0m\u001b[1;33m(\u001b[0m\u001b[0mother\u001b[0m\u001b[1;33m,\u001b[0m \u001b[0mSeries\u001b[0m\u001b[1;33m)\u001b[0m \u001b[1;32mand\u001b[0m \u001b[1;32mnot\u001b[0m \u001b[0mself\u001b[0m\u001b[1;33m.\u001b[0m\u001b[0m_indexed_same\u001b[0m\u001b[1;33m(\u001b[0m\u001b[0mother\u001b[0m\u001b[1;33m)\u001b[0m\u001b[1;33m:\u001b[0m\u001b[1;33m\u001b[0m\u001b[1;33m\u001b[0m\u001b[0m\n\u001b[1;32m-> 5617\u001b[1;33m             \u001b[1;32mraise\u001b[0m \u001b[0mValueError\u001b[0m\u001b[1;33m(\u001b[0m\u001b[1;34m\"Can only compare identically-labeled Series objects\"\u001b[0m\u001b[1;33m)\u001b[0m\u001b[1;33m\u001b[0m\u001b[1;33m\u001b[0m\u001b[0m\n\u001b[0m\u001b[0;32m   5618\u001b[0m \u001b[1;33m\u001b[0m\u001b[0m\n\u001b[0;32m   5619\u001b[0m         \u001b[0mlvalues\u001b[0m \u001b[1;33m=\u001b[0m \u001b[0mself\u001b[0m\u001b[1;33m.\u001b[0m\u001b[0m_values\u001b[0m\u001b[1;33m\u001b[0m\u001b[1;33m\u001b[0m\u001b[0m\n",
      "\u001b[1;31mValueError\u001b[0m: Can only compare identically-labeled Series objects"
     ]
    }
   ],
   "source": [
    "#Q5. Count the number of data values that fall within two standard deviations of\n",
    "#the mean. Compare this with the answer from Chebyshev’s Theorem\n",
    "np.ntile()"
   ]
  },
  {
   "cell_type": "code",
   "execution_count": 24,
   "id": "5d16f9cd",
   "metadata": {},
   "outputs": [
    {
     "data": {
      "text/plain": [
       "0    23.25\n",
       "Name: 0.25, dtype: float64"
      ]
     },
     "execution_count": 24,
     "metadata": {},
     "output_type": "execute_result"
    }
   ],
   "source": [
    "#Q6. Find the three quartiles and the interquartile range (IQR).\n",
    "q1=df.quantile(q=0.25)\n",
    "q1"
   ]
  },
  {
   "cell_type": "code",
   "execution_count": 25,
   "id": "f0af3fcf",
   "metadata": {},
   "outputs": [
    {
     "data": {
      "text/plain": [
       "0    31.5\n",
       "Name: 0.5, dtype: float64"
      ]
     },
     "execution_count": 25,
     "metadata": {},
     "output_type": "execute_result"
    }
   ],
   "source": [
    "q2=df.quantile(q=0.50)\n",
    "q2"
   ]
  },
  {
   "cell_type": "code",
   "execution_count": 26,
   "id": "6943c2d0",
   "metadata": {},
   "outputs": [
    {
     "data": {
      "text/plain": [
       "0    41.75\n",
       "Name: 0.75, dtype: float64"
      ]
     },
     "execution_count": 26,
     "metadata": {},
     "output_type": "execute_result"
    }
   ],
   "source": [
    "q3=df.quantile(q=0.75)\n",
    "q3"
   ]
  },
  {
   "cell_type": "code",
   "execution_count": 27,
   "id": "130db6f2",
   "metadata": {},
   "outputs": [
    {
     "data": {
      "text/plain": [
       "0    18.5\n",
       "dtype: float64"
      ]
     },
     "execution_count": 27,
     "metadata": {},
     "output_type": "execute_result"
    }
   ],
   "source": [
    "iqr=q3-q1\n",
    "iqr"
   ]
  },
  {
   "cell_type": "code",
   "execution_count": 37,
   "id": "ad46915e",
   "metadata": {},
   "outputs": [
    {
     "data": {
      "text/plain": [
       "<AxesSubplot:xlabel='age'>"
      ]
     },
     "execution_count": 37,
     "metadata": {},
     "output_type": "execute_result"
    },
    {
     "data": {
      "image/png": "[encoded data removed]",
      "text/plain": [
       "<Figure size 640x480 with 1 Axes>"
      ]
     },
     "metadata": {},
     "output_type": "display_data"
    }
   ],
   "source": [
    "#Q7. Are there any outliers in the data set ?\n",
    "#Q8. Draw a boxplot of the dataset to confirm .\n",
    "sns.boxplot(df['age'])"
   ]
  },
  {
   "cell_type": "code",
   "execution_count": null,
   "id": "04d24deb",
   "metadata": {},
   "outputs": [],
   "source": [
    "#there are no outliers in the dataset"
   ]
  },
  {
   "cell_type": "code",
   "execution_count": 48,
   "id": "13cb290a",
   "metadata": {},
   "outputs": [
    {
     "data": {
      "text/html": [
       "<div>\n",
       "<style scoped>\n",
       "    .dataframe tbody tr th:only-of-type {\n",
       "        vertical-align: middle;\n",
       "    }\n",
       "\n",
       "    .dataframe tbody tr th {\n",
       "        vertical-align: top;\n",
       "    }\n",
       "\n",
       "    .dataframe thead th {\n",
       "        text-align: right;\n",
       "    }\n",
       "</style>\n",
       "<table border=\"1\" class=\"dataframe\">\n",
       "  <thead>\n",
       "    <tr style=\"text-align: right;\">\n",
       "      <th></th>\n",
       "      <th>age</th>\n",
       "      <th>percentile rank</th>\n",
       "    </tr>\n",
       "  </thead>\n",
       "  <tbody>\n",
       "    <tr>\n",
       "      <th>0</th>\n",
       "      <td>42</td>\n",
       "      <td>0.783333</td>\n",
       "    </tr>\n",
       "    <tr>\n",
       "      <th>1</th>\n",
       "      <td>44</td>\n",
       "      <td>0.833333</td>\n",
       "    </tr>\n",
       "    <tr>\n",
       "      <th>2</th>\n",
       "      <td>62</td>\n",
       "      <td>0.966667</td>\n",
       "    </tr>\n",
       "    <tr>\n",
       "      <th>3</th>\n",
       "      <td>35</td>\n",
       "      <td>0.566667</td>\n",
       "    </tr>\n",
       "    <tr>\n",
       "      <th>4</th>\n",
       "      <td>20</td>\n",
       "      <td>0.116667</td>\n",
       "    </tr>\n",
       "    <tr>\n",
       "      <th>5</th>\n",
       "      <td>30</td>\n",
       "      <td>0.433333</td>\n",
       "    </tr>\n",
       "    <tr>\n",
       "      <th>6</th>\n",
       "      <td>56</td>\n",
       "      <td>0.933333</td>\n",
       "    </tr>\n",
       "    <tr>\n",
       "      <th>7</th>\n",
       "      <td>20</td>\n",
       "      <td>0.116667</td>\n",
       "    </tr>\n",
       "    <tr>\n",
       "      <th>8</th>\n",
       "      <td>23</td>\n",
       "      <td>0.266667</td>\n",
       "    </tr>\n",
       "    <tr>\n",
       "      <th>9</th>\n",
       "      <td>41</td>\n",
       "      <td>0.733333</td>\n",
       "    </tr>\n",
       "    <tr>\n",
       "      <th>10</th>\n",
       "      <td>55</td>\n",
       "      <td>0.900000</td>\n",
       "    </tr>\n",
       "    <tr>\n",
       "      <th>11</th>\n",
       "      <td>22</td>\n",
       "      <td>0.216667</td>\n",
       "    </tr>\n",
       "    <tr>\n",
       "      <th>12</th>\n",
       "      <td>31</td>\n",
       "      <td>0.483333</td>\n",
       "    </tr>\n",
       "    <tr>\n",
       "      <th>13</th>\n",
       "      <td>27</td>\n",
       "      <td>0.400000</td>\n",
       "    </tr>\n",
       "    <tr>\n",
       "      <th>14</th>\n",
       "      <td>66</td>\n",
       "      <td>1.000000</td>\n",
       "    </tr>\n",
       "    <tr>\n",
       "      <th>15</th>\n",
       "      <td>21</td>\n",
       "      <td>0.166667</td>\n",
       "    </tr>\n",
       "    <tr>\n",
       "      <th>16</th>\n",
       "      <td>18</td>\n",
       "      <td>0.050000</td>\n",
       "    </tr>\n",
       "    <tr>\n",
       "      <th>17</th>\n",
       "      <td>24</td>\n",
       "      <td>0.300000</td>\n",
       "    </tr>\n",
       "    <tr>\n",
       "      <th>18</th>\n",
       "      <td>42</td>\n",
       "      <td>0.783333</td>\n",
       "    </tr>\n",
       "    <tr>\n",
       "      <th>19</th>\n",
       "      <td>25</td>\n",
       "      <td>0.333333</td>\n",
       "    </tr>\n",
       "    <tr>\n",
       "      <th>20</th>\n",
       "      <td>32</td>\n",
       "      <td>0.533333</td>\n",
       "    </tr>\n",
       "    <tr>\n",
       "      <th>21</th>\n",
       "      <td>50</td>\n",
       "      <td>0.866667</td>\n",
       "    </tr>\n",
       "    <tr>\n",
       "      <th>22</th>\n",
       "      <td>31</td>\n",
       "      <td>0.483333</td>\n",
       "    </tr>\n",
       "    <tr>\n",
       "      <th>23</th>\n",
       "      <td>26</td>\n",
       "      <td>0.366667</td>\n",
       "    </tr>\n",
       "    <tr>\n",
       "      <th>24</th>\n",
       "      <td>36</td>\n",
       "      <td>0.616667</td>\n",
       "    </tr>\n",
       "    <tr>\n",
       "      <th>25</th>\n",
       "      <td>39</td>\n",
       "      <td>0.666667</td>\n",
       "    </tr>\n",
       "    <tr>\n",
       "      <th>26</th>\n",
       "      <td>40</td>\n",
       "      <td>0.700000</td>\n",
       "    </tr>\n",
       "    <tr>\n",
       "      <th>27</th>\n",
       "      <td>18</td>\n",
       "      <td>0.050000</td>\n",
       "    </tr>\n",
       "    <tr>\n",
       "      <th>28</th>\n",
       "      <td>36</td>\n",
       "      <td>0.616667</td>\n",
       "    </tr>\n",
       "    <tr>\n",
       "      <th>29</th>\n",
       "      <td>22</td>\n",
       "      <td>0.216667</td>\n",
       "    </tr>\n",
       "  </tbody>\n",
       "</table>\n",
       "</div>"
      ],
      "text/plain": [
       "    age  percentile rank\n",
       "0    42         0.783333\n",
       "1    44         0.833333\n",
       "2    62         0.966667\n",
       "3    35         0.566667\n",
       "4    20         0.116667\n",
       "5    30         0.433333\n",
       "6    56         0.933333\n",
       "7    20         0.116667\n",
       "8    23         0.266667\n",
       "9    41         0.733333\n",
       "10   55         0.900000\n",
       "11   22         0.216667\n",
       "12   31         0.483333\n",
       "13   27         0.400000\n",
       "14   66         1.000000\n",
       "15   21         0.166667\n",
       "16   18         0.050000\n",
       "17   24         0.300000\n",
       "18   42         0.783333\n",
       "19   25         0.333333\n",
       "20   32         0.533333\n",
       "21   50         0.866667\n",
       "22   31         0.483333\n",
       "23   26         0.366667\n",
       "24   36         0.616667\n",
       "25   39         0.666667\n",
       "26   40         0.700000\n",
       "27   18         0.050000\n",
       "28   36         0.616667\n",
       "29   22         0.216667"
      ]
     },
     "execution_count": 48,
     "metadata": {},
     "output_type": "execute_result"
    }
   ],
   "source": [
    "#Q9. Find the percentile rank of the datapoint 50.\n",
    "df['percentile rank']=df.age.rank(pct=True)\n",
    "df"
   ]
  },
  {
   "cell_type": "code",
   "execution_count": 49,
   "id": "9af245f2",
   "metadata": {},
   "outputs": [
    {
     "data": {
      "text/plain": [
       "0.8666666666666667"
      ]
     },
     "execution_count": 49,
     "metadata": {},
     "output_type": "execute_result"
    }
   ],
   "source": [
    "df2=df.loc[df['age'] == 50, 'percentile rank'].iloc[0]\n",
    "df2"
   ]
  },
  {
   "cell_type": "code",
   "execution_count": 12,
   "id": "0f540217",
   "metadata": {},
   "outputs": [
    {
     "data": {
      "text/plain": [
       "0.16666666666666666"
      ]
     },
     "execution_count": 12,
     "metadata": {},
     "output_type": "execute_result"
    }
   ],
   "source": [
    "#Q10. What is the probability that a person ordering an EV scooter is above 50\n",
    "#years old?\n",
    "df_50=len(df[df['age'].astype(int) >= 50])\n",
    "prob=df_50/len(df)\n",
    "prob\n"
   ]
  },
  {
   "cell_type": "code",
   "execution_count": 13,
   "id": "00380958",
   "metadata": {},
   "outputs": [
    {
     "data": {
      "image/png": "[encoded data removed]",
      "text/plain": [
       "<Figure size 640x480 with 1 Axes>"
      ]
     },
     "metadata": {},
     "output_type": "display_data"
    }
   ],
   "source": [
    "#Q11 Create a frequency distribution for the data and visualize it appropriately\n",
    "fig, ax = plt.subplots()\n",
    "df['age'].value_counts().plot(ax=ax, kind='bar', xlabel='numbers', ylabel='frequency')\n",
    "plt.show()"
   ]
  },
  {
   "cell_type": "code",
   "execution_count": 18,
   "id": "6c25dae7",
   "metadata": {},
   "outputs": [
    {
     "data": {
      "text/plain": [
       "age    34.466667\n",
       "dtype: float64"
      ]
     },
     "execution_count": 18,
     "metadata": {},
     "output_type": "execute_result"
    }
   ],
   "source": [
    "#Q12. Create a probability distribution of the data and visualize it appropriately.\n",
    "m=np.mean(df)\n",
    "m"
   ]
  },
  {
   "cell_type": "code",
   "execution_count": 19,
   "id": "40d3ce97",
   "metadata": {},
   "outputs": [],
   "source": [
    "from scipy.stats import poisson\n",
    "data_poisson = poisson.rvs(mu=m, size=29)"
   ]
  },
  {
   "cell_type": "code",
   "execution_count": 20,
   "id": "7b80d9d5",
   "metadata": {},
   "outputs": [
    {
     "data": {
      "text/plain": [
       "[Text(0.5, 0, 'Poisson Distribution'), Text(0, 0.5, 'Frequency')]"
      ]
     },
     "execution_count": 20,
     "metadata": {},
     "output_type": "execute_result"
    },
    {
     "data": {
      "image/png": "[encoded data removed]",
      "text/plain": [
       "<Figure size 640x480 with 1 Axes>"
      ]
     },
     "metadata": {},
     "output_type": "display_data"
    }
   ],
   "source": [
    "ax = sns.distplot(data_poisson,\n",
    "                  bins=30,\n",
    "                  kde=False,\n",
    "                  color='skyblue',\n",
    "                  hist_kws={\"linewidth\": 15,'alpha':1})\n",
    "ax.set(xlabel='Poisson Distribution', ylabel='Frequency')"
   ]
  },
  {
   "cell_type": "code",
   "execution_count": 1,
   "id": "17ec0b05",
   "metadata": {},
   "outputs": [],
   "source": [
    "#Q13. What is the shape of the distribution of this dataset? Create an\n",
    "#appropriate graph to determine that. Take 100 random samples with\n",
    "#replacement from this dataset of size 5 each. Create a sampling distribution of\n",
    "#the mean age of customers. Compare with other sampling distributions of\n",
    "#sample size 10, 15, 20, 25, 30. State your observations. Does it corroborate\n",
    "#the Central Limit Theorem?\n"
   ]
  },
  {
   "cell_type": "code",
   "execution_count": 8,
   "id": "3ab2783b",
   "metadata": {},
   "outputs": [
    {
     "data": {
      "image/png": "[encoded data removed]",
      "text/plain": [
       "<Figure size 640x480 with 1 Axes>"
      ]
     },
     "metadata": {},
     "output_type": "display_data"
    }
   ],
   "source": [
    "sample_size = 5 #n=30\n",
    "n_smpl=100 # \n",
    "\n",
    "# create an empty list to store the means of each sample\n",
    "smpl_means = []\n",
    "\n",
    "# create a for loop to get the sample means array\n",
    "for j in range(n_smpl):\n",
    "# generates a random sample of size 100 from the population array\n",
    "        sample = np.random.choice(df['age'], size=j, replace=True)\n",
    "        sample_mean = np.mean(sample)        \n",
    "# calculate the mean of the sample data\n",
    "        smpl_means.append(sample_mean)     \n",
    "# append the mean to the list\n",
    "sns.distplot(smpl_means)\n",
    "plt.title(\"Sampling Distribution\")\n",
    "plt.show()"
   ]
  },
  {
   "cell_type": "code",
   "execution_count": 25,
   "id": "66e6b329",
   "metadata": {},
   "outputs": [
    {
     "data": {
      "text/plain": [
       "<seaborn.axisgrid.FacetGrid at 0x228aec3e280>"
      ]
     },
     "execution_count": 25,
     "metadata": {},
     "output_type": "execute_result"
    },
    {
     "data": {
      "image/png": "[encoded data removed]",
      "text/plain": [
       "<Figure size 500x500 with 1 Axes>"
      ]
     },
     "metadata": {},
     "output_type": "display_data"
    }
   ],
   "source": [
    "sns.displot(df, x=\"age\", bins=40)"
   ]
  },
  {
   "cell_type": "code",
   "execution_count": 37,
   "id": "6a007cc0",
   "metadata": {},
   "outputs": [
    {
     "name": "stdout",
     "output_type": "stream",
     "text": [
      "[20, 40, 44, 62, 22]\n",
      "[27, 23, 22, 35, 56]\n",
      "[36, 30, 18, 55, 31]\n",
      "[31, 35, 32, 40, 24]\n",
      "[36, 55, 39, 24, 24]\n",
      "[26, 35, 50, 22, 22]\n",
      "[36, 22, 32, 18, 44]\n",
      "[42, 25, 55, 20, 24]\n",
      "[50, 31, 56, 31, 55]\n",
      "[18, 55, 31, 36, 35]\n",
      "[32, 66, 56, 22, 22]\n",
      "[24, 27, 18, 22, 22]\n",
      "[18, 66, 18, 66, 25]\n",
      "[31, 42, 31, 22, 27]\n",
      "[18, 20, 27, 39, 32]\n",
      "[41, 24, 56, 22, 32]\n",
      "[66, 44, 66, 31, 40]\n",
      "[18, 42, 36, 66, 25]\n",
      "[30, 24, 42, 50, 56]\n",
      "[36, 20, 18, 27, 55]\n",
      "[22, 18, 25, 21, 31]\n",
      "[22, 42, 24, 25, 42]\n",
      "[66, 22, 31, 35, 30]\n",
      "[42, 42, 35, 30, 21]\n",
      "[36, 41, 27, 39, 18]\n",
      "[40, 22, 18, 31, 24]\n",
      "[20, 40, 20, 66, 36]\n",
      "[22, 55, 56, 18, 22]\n",
      "[18, 31, 31, 44, 32]\n",
      "[66, 36, 18, 27, 44]\n",
      "[26, 23, 55, 44, 23]\n",
      "[31, 55, 40, 18, 22]\n",
      "[66, 55, 20, 31, 36]\n",
      "[18, 22, 55, 35, 56]\n",
      "[26, 31, 24, 36, 31]\n",
      "[31, 20, 18, 22, 56]\n",
      "[22, 23, 50, 42, 24]\n",
      "[24, 26, 66, 21, 25]\n",
      "[44, 32, 36, 44, 31]\n",
      "[32, 31, 26, 32, 25]\n",
      "[31, 40, 36, 42, 27]\n",
      "[20, 39, 44, 36, 35]\n",
      "[22, 31, 21, 55, 18]\n",
      "[22, 20, 50, 31, 20]\n",
      "[18, 24, 56, 36, 22]\n",
      "[36, 40, 30, 26, 24]\n",
      "[31, 22, 20, 35, 36]\n",
      "[31, 56, 66, 31, 36]\n",
      "[25, 22, 39, 50, 35]\n",
      "[44, 62, 42, 40, 32]\n",
      "[22, 20, 36, 40, 55]\n",
      "[22, 31, 42, 31, 20]\n",
      "[26, 22, 42, 42, 24]\n",
      "[32, 40, 26, 22, 30]\n",
      "[23, 27, 23, 39, 66]\n",
      "[56, 22, 42, 55, 42]\n",
      "[31, 18, 66, 55, 41]\n",
      "[36, 30, 18, 18, 22]\n",
      "[56, 50, 24, 21, 18]\n",
      "[30, 35, 50, 31, 21]\n",
      "[30, 20, 22, 24, 39]\n",
      "[36, 50, 25, 39, 55]\n",
      "[42, 32, 36, 20, 22]\n",
      "[20, 56, 44, 56, 23]\n",
      "[22, 44, 30, 31, 55]\n",
      "[40, 31, 31, 36, 23]\n",
      "[24, 31, 35, 22, 56]\n",
      "[23, 23, 31, 21, 27]\n",
      "[22, 31, 40, 42, 18]\n",
      "[18, 44, 39, 39, 18]\n",
      "[42, 66, 24, 20, 24]\n",
      "[36, 22, 32, 31, 42]\n",
      "[66, 18, 36, 56, 32]\n",
      "[30, 21, 30, 56, 44]\n",
      "[42, 42, 22, 25, 36]\n",
      "[40, 22, 25, 27, 20]\n",
      "[42, 32, 36, 42, 36]\n",
      "[35, 18, 32, 36, 44]\n",
      "[20, 35, 30, 36, 35]\n",
      "[35, 35, 44, 50, 18]\n",
      "[18, 40, 31, 42, 36]\n",
      "[18, 39, 21, 18, 30]\n",
      "[55, 30, 23, 36, 32]\n",
      "[31, 25, 55, 18, 35]\n",
      "[22, 39, 20, 18, 22]\n",
      "[66, 44, 25, 62, 42]\n",
      "[31, 32, 22, 44, 42]\n",
      "[42, 27, 62, 24, 55]\n",
      "[62, 66, 55, 22, 27]\n",
      "[20, 18, 41, 30, 35]\n",
      "[23, 20, 56, 27, 27]\n",
      "[42, 18, 18, 31, 50]\n",
      "[36, 42, 30, 42, 18]\n",
      "[27, 25, 36, 50, 23]\n",
      "[24, 39, 44, 24, 39]\n",
      "[26, 32, 42, 36, 18]\n",
      "[20, 21, 31, 31, 20]\n",
      "[18, 22, 26, 40, 18]\n",
      "[36, 21, 27, 40, 55]\n",
      "[20, 32, 24, 55, 40]\n"
     ]
    }
   ],
   "source": [
    "import random\n",
    "for i in range (1,101):\n",
    "    sample_list5 = random.choices(df['age'], k=5)\n",
    "    print(sample_list5)\n",
    "    \n",
    "sample_freq = {}\n",
    "  \n",
    "for i in range(5):\n",
    "    for j in range(5):\n",
    "              # Selecting each pair possible with \n",
    "            # repetition\n",
    "\n",
    "        mean_of_two = (age[i] +age[j]) / 2\n",
    "\n",
    "        if (mean_of_two in sample_freq):\n",
    "                  # Updating the value for a mean value\n",
    "                # if it already exists\n",
    "            sample_freq[mean_of_two] += 1\n",
    "\n",
    "        else:\n",
    "                  # Adding a new key to the dictionary\n",
    "                # if it is not their\n",
    "            sample_freq[mean_of_two] = 1\n",
    "    sample_freq"
   ]
  },
  {
   "cell_type": "code",
   "execution_count": null,
   "id": "2b4ef630",
   "metadata": {},
   "outputs": [],
   "source": []
  },
  {
   "cell_type": "code",
   "execution_count": null,
   "id": "cf678964",
   "metadata": {},
   "outputs": [],
   "source": []
  },
  {
   "cell_type": "code",
   "execution_count": null,
   "id": "f0941198",
   "metadata": {},
   "outputs": [],
   "source": []
  },
  {
   "cell_type": "code",
   "execution_count": 51,
   "id": "7f5660f8",
   "metadata": {},
   "outputs": [
    {
     "name": "stdout",
     "output_type": "stream",
     "text": [
      "[40, 20, 39, 55, 42, 23, 30, 62, 27, 36]\n"
     ]
    }
   ],
   "source": [
    "#Q14. Treat this dataset as a binomial distribution where p is the probability\n",
    "#that a person ordering an EV is above 50 years age. What is the probability\n",
    "#that out of a random sample of 10 buyers exactly 6 are above 50 years of\n",
    "#age?\n",
    "df_50=len(df[df['age'].astype(int) >= 50])\n",
    "prob=df_50/len(df)\n",
    "prob\n",
    "sample_list10 = random.choices(df['age'], k=10)\n",
    "print(sample_list10)"
   ]
  },
  {
   "cell_type": "code",
   "execution_count": 53,
   "id": "a1398a61",
   "metadata": {},
   "outputs": [
    {
     "data": {
      "text/plain": [
       "0.0021661237376906515"
      ]
     },
     "execution_count": 53,
     "metadata": {},
     "output_type": "execute_result"
    }
   ],
   "source": [
    "prob1=stats.binom.pmf(k=6,n=10,p=0.1666)\n",
    "prob1"
   ]
  },
  {
   "cell_type": "code",
   "execution_count": 54,
   "id": "62c8a4d8",
   "metadata": {},
   "outputs": [
    {
     "data": {
      "text/plain": [
       "0.0509860415314796"
      ]
     },
     "execution_count": 54,
     "metadata": {},
     "output_type": "execute_result"
    }
   ],
   "source": [
    "#Q15. A study claims that 10% of all customers for an EV scooter are above 50\n",
    "#years of age. Using the Normal approximation of a Binomial distribution, find\n",
    "#the probability that in a random sample of 300 prospective customers exactly\n",
    "#25 will be above 50 years of age.\n",
    "prob2=stats.binom.pmf(k=25,n=300,p=1/10)\n",
    "prob2"
   ]
  },
  {
   "cell_type": "code",
   "execution_count": 56,
   "id": "7e458f52",
   "metadata": {},
   "outputs": [
    {
     "data": {
      "text/plain": [
       "age    13.317692\n",
       "dtype: float64"
      ]
     },
     "execution_count": 56,
     "metadata": {},
     "output_type": "execute_result"
    }
   ],
   "source": [
    "#Q16. Compute a 95% Confidence Interval for the true mean age of the\n",
    "#population of EV scooter buyers for the dataset using appropriate distribution.(\n",
    "#State reasons as to why did you use a z or t distribution)\n",
    "df.mean()\n",
    "df.std()"
   ]
  },
  {
   "cell_type": "code",
   "execution_count": null,
   "id": "3d8018eb",
   "metadata": {},
   "outputs": [],
   "source": [
    "mu=34.4666\n",
    "alpha=0.05\n",
    "sigma=13.317\n",
    "n=29"
   ]
  },
  {
   "cell_type": "code",
   "execution_count": 57,
   "id": "f72f8dcb",
   "metadata": {},
   "outputs": [
    {
     "name": "stdout",
     "output_type": "stream",
     "text": [
      "Test statistic: 0.9230571985244751\n",
      "P-Value: 0.03221803158521652\n"
     ]
    }
   ],
   "source": [
    "stat, p_value = stats.shapiro(df['age'])\n",
    "\n",
    "print('Test statistic:', stat)\n",
    "print('P-Value:', p_value)"
   ]
  },
  {
   "cell_type": "code",
   "execution_count": 63,
   "id": "30435c38",
   "metadata": {},
   "outputs": [
    {
     "data": {
      "text/plain": [
       "0.48"
      ]
     },
     "execution_count": 63,
     "metadata": {},
     "output_type": "execute_result"
    }
   ],
   "source": [
    "n=29\n",
    "t_critical = round(stats.t.sf( 0.05, df = n-1), 2)\n",
    "t_critical"
   ]
  },
  {
   "cell_type": "code",
   "execution_count": null,
   "id": "3394b213",
   "metadata": {},
   "outputs": [],
   "source": [
    "#we used T distribution because the total population size was 29\n",
    "#since test statsitic is greater than critical value hence the null hypothesis is accepted"
   ]
  },
  {
   "cell_type": "code",
   "execution_count": 65,
   "id": "d255c657",
   "metadata": {},
   "outputs": [
    {
     "name": "stdout",
     "output_type": "stream",
     "text": [
      "95% confidence interval for population proportion is [0.12 0.28]\n"
     ]
    }
   ],
   "source": [
    "#Q17. A data scientist wants to estimate with 95% confidence the proportion of\n",
    "#people who own an EV in the population. A recent study showed that 20% of\n",
    "#people interviewed had an EV. The data scientist wants to be accurate within\n",
    "#2% of the true proportion. Find the minimum sample size necessary.\n",
    "n = 100\n",
    "x = 20\n",
    "\n",
    "# sample proportion\n",
    "p_samp = x/n\n",
    "\n",
    "interval =stats.norm.interval(0.95, loc=p_samp, scale=np.sqrt(p_samp*(1-p_samp)/n))\n",
    "\n",
    "print('95% confidence interval for population proportion is', np.round(interval,2))"
   ]
  },
  {
   "cell_type": "code",
   "execution_count": 66,
   "id": "05251921",
   "metadata": {},
   "outputs": [
    {
     "name": "stdout",
     "output_type": "stream",
     "text": [
      "90% confidence interval for population proportion is [0.13 0.27]\n"
     ]
    }
   ],
   "source": [
    "#Q18. The same data scientist wants to estimate the proportion of executives\n",
    "#who own an EV. She wants to be 90% confident and accurate within 5% of\n",
    "#true proportion. Find the minimum sample size necessary.\n",
    "n = 100\n",
    "x = 20\n",
    "\n",
    "# sample proportion\n",
    "p_samp = x/n\n",
    "\n",
    "interval =stats.norm.interval(0.90, loc=p_samp, scale=np.sqrt(p_samp*(1-p_samp)/n))\n",
    "\n",
    "print('90% confidence interval for population proportion is', np.round(interval,2))"
   ]
  },
  {
   "cell_type": "code",
   "execution_count": 67,
   "id": "34f83687",
   "metadata": {},
   "outputs": [
    {
     "name": "stdout",
     "output_type": "stream",
     "text": [
      "90% confidence interval for population proportion is [0.03 0.3 ]\n"
     ]
    }
   ],
   "source": [
    "#Q19. A researcher claims that currently 20% of the population are owning\n",
    "#EVs. Test his claim with an alpha =0.05 if out of a random sample of 30\n",
    "#two-wheeler owners only 5 own an EV.\n",
    "n=30\n",
    "x=5\n",
    "p_samp = x/n\n",
    "\n",
    "interval =stats.norm.interval(0.95, loc=p_samp, scale=np.sqrt(p_samp*(1-p_samp)/n))\n",
    "\n",
    "print('90% confidence interval for population proportion is', np.round(interval,2))"
   ]
  },
  {
   "cell_type": "code",
   "execution_count": 68,
   "id": "88cb77ae",
   "metadata": {},
   "outputs": [],
   "source": [
    "#Q20. Assume you are working for a Consumer Protection Agency that looks at\n",
    "#complaints raised by customers for the transportation industry. Say you have\n",
    "#been receiving complaints about the mileage of the latest EV launched by the\n",
    "#Zen Automotives. Zen allows you to test randomly 40 of its new EVs to test\n",
    "#mileage. Zen claims that the new EVs get a mileage of 96 kmpl on the\n",
    "#highway. Your results show a mean of 91.3 kmpl and a standard deviation of\n",
    "#14.4.\n",
    "n=40\n",
    "mu=96\n",
    "x_bar=91.3\n",
    "s=14.4\n"
   ]
  },
  {
   "cell_type": "code",
   "execution_count": 69,
   "id": "b4b206b8",
   "metadata": {},
   "outputs": [
    {
     "data": {
      "text/plain": [
       "-2.0642645837210267"
      ]
     },
     "execution_count": 69,
     "metadata": {},
     "output_type": "execute_result"
    }
   ],
   "source": [
    "#a. Show why you support Zen’s claim using the P-value obtained.\n",
    "z_stat = (x_bar - mu) / (s/n**0.5)\n",
    "z_stat"
   ]
  },
  {
   "cell_type": "code",
   "execution_count": 70,
   "id": "109ce1ba",
   "metadata": {},
   "outputs": [
    {
     "data": {
      "text/plain": [
       "0.03899263702552719"
      ]
     },
     "execution_count": 70,
     "metadata": {},
     "output_type": "execute_result"
    }
   ],
   "source": [
    "p_value = 2 * stats.norm.cdf(z_stat)\n",
    "p_value"
   ]
  },
  {
   "cell_type": "code",
   "execution_count": null,
   "id": "680afdd9",
   "metadata": {},
   "outputs": [],
   "source": [
    "# p > significace level , therefore accept H0. \n",
    "# Thus we accept the null hypothesis and conclude that there is not enough evidence to claim that the mean mileage is different from 96kmpl."
   ]
  },
  {
   "cell_type": "code",
   "execution_count": 72,
   "id": "13ff51fb",
   "metadata": {},
   "outputs": [
    {
     "name": "stdout",
     "output_type": "stream",
     "text": [
      "p value is 1.0\n",
      "Independent (H0 holds true)\n"
     ]
    }
   ],
   "source": [
    "#b. After more complaints you decide to test the variability of the mileage on\n",
    "#the highway. On questioning Zen’s quality control engineer , you find\n",
    "#that they are claiming a standard deviation of 7.2. Test the claim about\n",
    "#the standard deviation. [Hint :use the Chi-square test for\n",
    "#variance/standard deviation]\n",
    "from scipy.stats import chi2_contingency\n",
    "data =df['age']\n",
    "stat, p, dof, expected = chi2_contingency(data)\n",
    "  \n",
    "# interpret p-value\n",
    "alpha = 0.05\n",
    "print(\"p value is \" + str(p))\n",
    "if p <= alpha:\n",
    "    print('Dependent (reject H0)')\n",
    "else:\n",
    "    print('Independent (H0 holds true)')"
   ]
  },
  {
   "cell_type": "code",
   "execution_count": 1,
   "id": "ab7a35b5",
   "metadata": {},
   "outputs": [],
   "source": [
    "#c. Write a summary of results and the action that Zen must take to remedy\n",
    "#the complaints.\n",
    "# zen must take a larger sample size and check again the p value if then the null hypothesis\n",
    "#remains true he must change the claimed mileage. "
   ]
  },
  {
   "cell_type": "code",
   "execution_count": 2,
   "id": "a3a00212",
   "metadata": {},
   "outputs": [],
   "source": [
    "#d. What is your position on performing the test for variability along with the\n",
    "#test for means?\n",
    "#performing the test of means on the above dataset concludes that the customer claim stands true i.e. the null hypothesis\n",
    "#is accepted and zen should change the cliam of the mileage offered by the EV"
   ]
  },
  {
   "cell_type": "raw",
   "id": "90bc67ec",
   "metadata": {},
   "source": [
    "#Q21. Write a report comparing and contrasting Descriptive vs Inferential\n",
    "#Statistics in about 200-500 words and how each helps to get more insight into\n",
    "#the data at hand.\n",
    " Descriptive Statistics: Descriptive statistics is a term given to the analysis of data that helps to describe, \n",
    "show and summarize data in a meaningful way. It is a simple way to describe our data. \n",
    "Descriptive statistics is very important to present our raw data ineffective/meaningful way using numerical\n",
    "calculations or graphs or tables.\n",
    "This type of statistics is applied to already known data.\n",
    "Descriptive statistics are used to describe the characteristics or features of a dataset. \n",
    "The term ‘descriptive statistics’ can be used to describe both individual quantitative observations (also known as\n",
    "‘summary statistics’) as well as the overall process of obtaining insights from these data. \n",
    "We can use descriptive statistics to describe both an entire population or an individual sample. \n",
    "Because they are merely explanatory, descriptive statistics are not heavily concerned with the differences between \n",
    "the two types of data.\n",
    "\n",
    "So what measures do descriptive statistics look at? While there are many, important ones include:\n",
    "\n",
    "Distribution\n",
    "Central tendency\n",
    "Variability\n",
    "\n",
    " Inferential Statistics: In inferential statistics, predictions are made by taking any group of data in which you are interested.\n",
    "It can be defined as a random sample of data taken from a population to describe and make inferences about the population. \n",
    "Any group of data that includes all the data you are interested in is known as population.\n",
    "It basically allows you to make predictions by taking a small sample instead of working on the whole population.\n",
    "\n",
    "we’ve established that descriptive statistics focus on summarizing the key features of a dataset. Meanwhile, inferential statistics focus on making generalizations about a larger population based on a representative sample of that population. Because inferential statistics focuses on making predictions (rather than stating facts) its results are usually in the form of a probability.\n",
    "\n",
    "Unsurprisingly, the accuracy of inferential statistics relies heavily on the sample data being both accurate and representative of the larger population. \n",
    "To do this involves obtaining a random sample. If you’ve ever read news coverage of scientific studies, \n",
    "you’ll have come across the term before. The implication is always that random sampling means better results.\n",
    "On the flipside, results that are based on biased or non-random samples are usually thrown out.\n",
    "Random sampling is very important for carrying out inferential techniques,"
   ]
  }
 ],
 "metadata": {
  "kernelspec": {
   "display_name": "Python 3 (ipykernel)",
   "language": "python",
   "name": "python3"
  },
  "language_info": {
   "codemirror_mode": {
    "name": "ipython",
    "version": 3
   },
   "file_extension": ".py",
   "mimetype": "text/x-python",
   "name": "python",
   "nbconvert_exporter": "python",
   "pygments_lexer": "ipython3",
   "version": "3.9.13"
  }
 },
 "nbformat": 4,
 "nbformat_minor": 5
}
